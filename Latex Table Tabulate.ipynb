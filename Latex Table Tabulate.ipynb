{
 "cells": [
  {
   "cell_type": "markdown",
   "id": "763ef425",
   "metadata": {},
   "source": [
    "# Use Tabulate for Latex supported Table Generation"
   ]
  },
  {
   "cell_type": "code",
   "execution_count": 1,
   "id": "8cd2910e",
   "metadata": {},
   "outputs": [],
   "source": [
    "from tabulate import tabulate\n",
    "from IPython.display import Markdown, Latex\n",
    "A2 = {\n",
    "    'Variable':['Bundle Diameter','Shell Diameter','Shell Side Cross Flow area','Volumetric Flowrate','Shell Side Velocity'],\n",
    "    'Result':[3.4, 34, 78.23, 1.0 ,  2.0],\n",
    "    'Unit' : ['$in$', '$in$', '$ft^2$', '$ft^{3}s^{-1}$', '$fts^{-1}$']}\n"
   ]
  },
  {
   "cell_type": "markdown",
   "id": "2267c168",
   "metadata": {},
   "source": [
    "## Best"
   ]
  },
  {
   "cell_type": "code",
   "execution_count": 2,
   "id": "c49734ac",
   "metadata": {
    "scrolled": true
   },
   "outputs": [
    {
     "name": "stdout",
     "output_type": "stream",
     "text": [
      "<table>\n",
      "<thead>\n",
      "<tr><th>Variable                  </th><th style=\"text-align: right;\">  Result</th><th>Unit          </th></tr>\n",
      "</thead>\n",
      "<tbody>\n",
      "<tr><td>Bundle Diameter           </td><td style=\"text-align: right;\">    3.4 </td><td>$in$          </td></tr>\n",
      "<tr><td>Shell Diameter            </td><td style=\"text-align: right;\">   34   </td><td>$in$          </td></tr>\n",
      "<tr><td>Shell Side Cross Flow area</td><td style=\"text-align: right;\">   78.23</td><td>$ft^2$        </td></tr>\n",
      "<tr><td>Volumetric Flowrate       </td><td style=\"text-align: right;\">    1   </td><td>$ft^{3}s^{-1}$</td></tr>\n",
      "<tr><td>Shell Side Velocity       </td><td style=\"text-align: right;\">    2   </td><td>$fts^{-1}$    </td></tr>\n",
      "</tbody>\n",
      "</table>\n"
     ]
    }
   ],
   "source": [
    "temp_html=tabulate(A2, headers='keys', tablefmt='html')\n",
    "print(temp_html) # HTML code behind the scenes ...BAD it stretches table & break columns width"
   ]
  },
  {
   "cell_type": "code",
   "execution_count": 3,
   "id": "c32e4b35",
   "metadata": {},
   "outputs": [
    {
     "data": {
      "text/markdown": [
       "<table style=\"width:50%\">\n",
       "<thead>\n",
       "<tr><th>Variable                  </th><th style=\"text-align: right;\">  Result</th><th>Unit          </th></tr>\n",
       "</thead>\n",
       "<tbody>\n",
       "<tr><td>Bundle Diameter           </td><td style=\"text-align: right;\">    3.4 </td><td>$in$          </td></tr>\n",
       "<tr><td>Shell Diameter            </td><td style=\"text-align: right;\">   34   </td><td>$in$          </td></tr>\n",
       "<tr><td>Shell Side Cross Flow area</td><td style=\"text-align: right;\">   78.23</td><td>$ft^2$        </td></tr>\n",
       "<tr><td>Volumetric Flowrate       </td><td style=\"text-align: right;\">    1   </td><td>$ft^{3}s^{-1}$</td></tr>\n",
       "<tr><td>Shell Side Velocity       </td><td style=\"text-align: right;\">    2   </td><td>$fts^{-1}$    </td></tr>\n",
       "</tbody>\n",
       "</table>"
      ],
      "text/plain": [
       "<IPython.core.display.Markdown object>"
      ]
     },
     "execution_count": 3,
     "metadata": {},
     "output_type": "execute_result"
    }
   ],
   "source": [
    "Markdown(temp_html.replace('<table>','<table style=\"width:50%\">'))"
   ]
  },
  {
   "cell_type": "markdown",
   "id": "2c79e63e",
   "metadata": {},
   "source": [
    "## Bad"
   ]
  },
  {
   "cell_type": "code",
   "execution_count": 4,
   "id": "f66e8eb6",
   "metadata": {},
   "outputs": [
    {
     "data": {
      "text/latex": [
       "\\begin{tabular}{lrl}\n",
       "\\hline\n",
       " Variable                   &   Result & Unit           \\\\\n",
       "\\hline\n",
       " Bundle Diameter            &     3.4  & \\$in\\$           \\\\\n",
       " Shell Diameter             &    34    & \\$in\\$           \\\\\n",
       " Shell Side Cross Flow area &    78.23 & \\$ft\\^{}2\\$         \\\\\n",
       " Volumetric Flowrate        &     1    & \\$ft\\^{}\\{3\\}s\\^{}\\{-1\\}\\$ \\\\\n",
       " Shell Side Velocity        &     2    & \\$fts\\^{}\\{-1\\}\\$     \\\\\n",
       "\\hline\n",
       "\\end{tabular}"
      ],
      "text/plain": [
       "<IPython.core.display.Latex object>"
      ]
     },
     "execution_count": 4,
     "metadata": {},
     "output_type": "execute_result"
    }
   ],
   "source": [
    "temp_lat=tabulate(A2, headers='keys', tablefmt='latex')\n",
    "Latex(temp_lat)"
   ]
  },
  {
   "cell_type": "code",
   "execution_count": 5,
   "id": "abe41a38",
   "metadata": {},
   "outputs": [
    {
     "data": {
      "application/json": {
       "Software versions": [
        {
         "module": "Python",
         "version": "3.9.15 64bit [Clang 14.0.6 (https://android.googlesource.com/toolchain/llvm-project 4c603efb]"
        },
        {
         "module": "IPython",
         "version": "8.4.0"
        },
        {
         "module": "OS",
         "version": "Linux 4.19.113 24856341 aarch64 with libc"
        },
        {
         "module": "tabulate",
         "version": "0.8.10"
        }
       ]
      },
      "text/html": [
       "<table><tr><th>Software</th><th>Version</th></tr><tr><td>Python</td><td>3.9.15 64bit [Clang 14.0.6 (https://android.googlesource.com/toolchain/llvm-project 4c603efb]</td></tr><tr><td>IPython</td><td>8.4.0</td></tr><tr><td>OS</td><td>Linux 4.19.113 24856341 aarch64 with libc</td></tr><tr><td>tabulate</td><td>0.8.10</td></tr><tr><td colspan='2'>Tue Nov 08 14:04:31 2022 PKT</td></tr></table>"
      ],
      "text/latex": [
       "\\begin{tabular}{|l|l|}\\hline\n",
       "{\\bf Software} & {\\bf Version} \\\\ \\hline\\hline\n",
       "Python & 3.9.15 64bit [Clang 14.0.6 (https://android.googlesource.com/toolchain/llvm-project 4c603efb] \\\\ \\hline\n",
       "IPython & 8.4.0 \\\\ \\hline\n",
       "OS & Linux 4.19.113 24856341 aarch64 with libc \\\\ \\hline\n",
       "tabulate & 0.8.10 \\\\ \\hline\n",
       "\\hline \\multicolumn{2}{|l|}{Tue Nov 08 14:04:31 2022 PKT} \\\\ \\hline\n",
       "\\end{tabular}\n"
      ],
      "text/plain": [
       "Software versions\n",
       "Python 3.9.15 64bit [Clang 14.0.6 (https://android.googlesource.com/toolchain/llvm-project 4c603efb]\n",
       "IPython 8.4.0\n",
       "OS Linux 4.19.113 24856341 aarch64 with libc\n",
       "tabulate 0.8.10\n",
       "Tue Nov 08 14:04:31 2022 PKT"
      ]
     },
     "execution_count": 5,
     "metadata": {},
     "output_type": "execute_result"
    }
   ],
   "source": [
    "%reload_ext version_information\n",
    "%version_information tabulate"
   ]
  },
  {
   "cell_type": "code",
   "execution_count": null,
   "id": "a11ac134",
   "metadata": {},
   "outputs": [],
   "source": []
  }
 ],
 "metadata": {
  "kernelspec": {
   "display_name": "Python 3 (ipykernel)",
   "language": "python",
   "name": "python3"
  },
  "language_info": {
   "codemirror_mode": {
    "name": "ipython",
    "version": 3
   },
   "file_extension": ".py",
   "mimetype": "text/x-python",
   "name": "python",
   "nbconvert_exporter": "python",
   "pygments_lexer": "ipython3",
   "version": "3.9.15"
  }
 },
 "nbformat": 4,
 "nbformat_minor": 5
}
