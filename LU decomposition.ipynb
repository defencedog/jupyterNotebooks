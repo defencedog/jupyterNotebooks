{
 "cells": [
  {
   "cell_type": "code",
   "execution_count": 1,
   "id": "933d3c21",
   "metadata": {},
   "outputs": [],
   "source": [
    "import numpy as np\n",
    "import sympy as sp\n",
    "from scipy.linalg import lu "
   ]
  },
  {
   "cell_type": "markdown",
   "id": "e13ba0da",
   "metadata": {},
   "source": [
    "Three linear eq.s</br>\n",
    "<math xmlns=\"http://www.w3.org/1998/Math/MathML\">\n",
    "  <mtable columnalign=\"right left right left right left right left right left right left\" rowspacing=\"3pt\" columnspacing=\"0em 2em 0em 2em 0em 2em 0em 2em 0em 2em 0em\" displaystyle=\"true\">\n",
    "    <mtr>\n",
    "      <mtd>\n",
    "        <mi>x</mi>\n",
    "        <mo>&#x2212;<!-- − --></mo>\n",
    "        <mn>2</mn>\n",
    "        <mi>y</mi>\n",
    "        <mo>+</mo>\n",
    "        <mn>3</mn>\n",
    "        <mi>z</mi>\n",
    "        <mo>=</mo>\n",
    "        <mn>9</mn>\n",
    "      </mtd>\n",
    "      <mtd />\n",
    "      <mtd>\n",
    "        <mtext>...(1)</mtext>\n",
    "      </mtd>\n",
    "    </mtr>\n",
    "    <mtr>\n",
    "      <mtd>\n",
    "        <mo>&#x2212;<!-- − --></mo>\n",
    "        <mi>x</mi>\n",
    "        <mo>+</mo>\n",
    "        <mn>3</mn>\n",
    "        <mi>y</mi>\n",
    "        <mo>&#x2212;<!-- − --></mo>\n",
    "        <mi>z</mi>\n",
    "        <mo>=</mo>\n",
    "        <mo>&#x2212;<!-- − --></mo>\n",
    "        <mn>6</mn>\n",
    "      </mtd>\n",
    "      <mtd />\n",
    "      <mtd>\n",
    "        <mtext>...(2)</mtext>\n",
    "      </mtd>\n",
    "    </mtr>\n",
    "    <mtr>\n",
    "      <mtd>\n",
    "        <mn>2</mn>\n",
    "        <mi>x</mi>\n",
    "        <mo>&#x2212;<!-- − --></mo>\n",
    "        <mn>5</mn>\n",
    "        <mi>y</mi>\n",
    "        <mo>+</mo>\n",
    "        <mn>5</mn>\n",
    "        <mi>z</mi>\n",
    "        <mo>=</mo>\n",
    "        <mn>17</mn>\n",
    "      </mtd>\n",
    "      <mtd />\n",
    "      <mtd>\n",
    "        <mtext>...(3)</mtext>\n",
    "      </mtd>\n",
    "    </mtr>\n",
    "  </mtable>\n",
    "</math>"
   ]
  },
  {
   "cell_type": "code",
   "execution_count": 2,
   "id": "d6b8a267",
   "metadata": {},
   "outputs": [
    {
     "data": {
      "text/plain": [
       "array([[ 1, -2,  3],\n",
       "       [-1,  3, -1],\n",
       "       [ 2, -5,  5]])"
      ]
     },
     "execution_count": 2,
     "metadata": {},
     "output_type": "execute_result"
    }
   ],
   "source": [
    "M= np.array([ [1,-2,3], [-1,3,-1], [2,-5,5] ]) \n",
    "M"
   ]
  },
  {
   "cell_type": "code",
   "execution_count": 3,
   "id": "af08eb51",
   "metadata": {},
   "outputs": [
    {
     "data": {
      "text/plain": [
       "array([[ 9],\n",
       "       [-6],\n",
       "       [17]])"
      ]
     },
     "execution_count": 3,
     "metadata": {},
     "output_type": "execute_result"
    }
   ],
   "source": [
    "b= np.array([ [9,-6,17] ]) \n",
    "b.T"
   ]
  },
  {
   "cell_type": "code",
   "execution_count": 4,
   "id": "39ec4a23",
   "metadata": {},
   "outputs": [
    {
     "name": "stdout",
     "output_type": "stream",
     "text": [
      "P:\n",
      " [[0. 0. 1.]\n",
      " [0. 1. 0.]\n",
      " [1. 0. 0.]]\n",
      "L:\n",
      " [[ 1.   0.   0. ]\n",
      " [-0.5  1.   0. ]\n",
      " [ 0.5  1.   1. ]]\n",
      "U:\n",
      " [[ 2.  -5.   5. ]\n",
      " [ 0.   0.5  1.5]\n",
      " [ 0.   0.  -1. ]]\n"
     ]
    }
   ],
   "source": [
    "P, L, U = lu(M)\n",
    "print('P:\\n',P)\n",
    "print('L:\\n',L)\n",
    "print('U:\\n',U)"
   ]
  },
  {
   "cell_type": "markdown",
   "id": "5001dd8e",
   "metadata": {},
   "source": [
    "https://en.wikipedia.org/wiki/LU_decomposition#Solving_linear_equations"
   ]
  },
  {
   "cell_type": "code",
   "execution_count": 5,
   "id": "8bcaf43d",
   "metadata": {},
   "outputs": [
    {
     "data": {
      "text/plain": [
       "array([[17.],\n",
       "       [-6.],\n",
       "       [ 9.]])"
      ]
     },
     "execution_count": 5,
     "metadata": {},
     "output_type": "execute_result"
    }
   ],
   "source": [
    "Pb = P @ b.T \n",
    "Pb"
   ]
  },
  {
   "cell_type": "code",
   "execution_count": 6,
   "id": "03f0946e",
   "metadata": {},
   "outputs": [],
   "source": [
    "x,y,z = sp.symbols([ 'x', 'y', 'z' ]) #actual variables\n",
    "p,q,r = sp.symbols([ 'p', 'q', 'r' ]) #pseudo variables represent y ...see WIKI"
   ]
  },
  {
   "cell_type": "code",
   "execution_count": 7,
   "id": "62a5586b",
   "metadata": {},
   "outputs": [],
   "source": [
    "actual_var=np.array([ [x,y,z] ])\n",
    "pseudo_var=np.array([ [p,q,r] ])"
   ]
  },
  {
   "cell_type": "code",
   "execution_count": 8,
   "id": "bd2cee72",
   "metadata": {},
   "outputs": [
    {
     "name": "stdout",
     "output_type": "stream",
     "text": [
      "Ly = Pb ..in an elementwise manner\n",
      "[Eq(1.0*p, 17.0), Eq(-0.5*p + 1.0*q, -6.0), Eq(0.5*p + 1.0*q + 1.0*r, 9.0)]\n"
     ]
    }
   ],
   "source": [
    "Ly=L @ pseudo_var.T\n",
    "print('Ly = Pb ..in an elementwise manner')\n",
    "\n",
    "eq_pqr=[]\n",
    "for i in range(len(Ly)):\n",
    "    eq_pqr.append(sp.Eq(Ly[i,0], Pb[i,0]))\n",
    "    \n",
    "print(eq_pqr)"
   ]
  },
  {
   "cell_type": "markdown",
   "id": "caf81988",
   "metadata": {},
   "source": [
    "## Forward Substitution Begins... "
   ]
  },
  {
   "cell_type": "code",
   "execution_count": 9,
   "id": "fb30dc61",
   "metadata": {},
   "outputs": [
    {
     "data": {
      "text/plain": [
       "[17.0000000000000]"
      ]
     },
     "execution_count": 9,
     "metadata": {},
     "output_type": "execute_result"
    }
   ],
   "source": [
    "pval= sp.solve(eq_pqr[0])\n",
    "pval"
   ]
  },
  {
   "cell_type": "code",
   "execution_count": 10,
   "id": "96e7b0ae",
   "metadata": {},
   "outputs": [
    {
     "data": {
      "text/plain": [
       "[2.50000000000000]"
      ]
     },
     "execution_count": 10,
     "metadata": {},
     "output_type": "execute_result"
    }
   ],
   "source": [
    "qval= sp.solve( eq_pqr[1].evalf(subs={p:pval[0]}) )\n",
    "qval"
   ]
  },
  {
   "cell_type": "code",
   "execution_count": 11,
   "id": "7b1fc698",
   "metadata": {},
   "outputs": [
    {
     "data": {
      "text/plain": [
       "[-2.00000000000000]"
      ]
     },
     "execution_count": 11,
     "metadata": {},
     "output_type": "execute_result"
    }
   ],
   "source": [
    "rval= sp.solve( eq_pqr[2].evalf(subs={p:pval[0], q:qval[0]}) )\n",
    "rval"
   ]
  },
  {
   "cell_type": "markdown",
   "id": "60e18a9f",
   "metadata": {},
   "source": [
    "## First Step Completed"
   ]
  },
  {
   "cell_type": "code",
   "execution_count": 12,
   "id": "dbf23704",
   "metadata": {},
   "outputs": [
    {
     "data": {
      "text/plain": [
       "[17.0000000000000, 2.50000000000000, -2.00000000000000]"
      ]
     },
     "execution_count": 12,
     "metadata": {},
     "output_type": "execute_result"
    }
   ],
   "source": [
    "_y= [pval[0], qval[0], rval[0]]  #recast as y for known p,q,r to keep in line with WIKI syntax\n",
    "_y"
   ]
  },
  {
   "cell_type": "code",
   "execution_count": 13,
   "id": "b2f7f3c3",
   "metadata": {},
   "outputs": [
    {
     "data": {
      "text/plain": [
       "array([[2.0*x - 5.0*y + 5.0*z],\n",
       "       [0.5*y + 1.5*z],\n",
       "       [-1.0*z]], dtype=object)"
      ]
     },
     "execution_count": 13,
     "metadata": {},
     "output_type": "execute_result"
    }
   ],
   "source": [
    "Ux= U @ actual_var.T\n",
    "Ux"
   ]
  },
  {
   "cell_type": "code",
   "execution_count": 14,
   "id": "a483400d",
   "metadata": {},
   "outputs": [
    {
     "name": "stdout",
     "output_type": "stream",
     "text": [
      "Ux = y  ...elementwise\n",
      "[Eq(2.0*x - 5.0*y + 5.0*z, 17.0), Eq(0.5*y + 1.5*z, 2.5), Eq(-1.0*z, -2.0)]\n"
     ]
    }
   ],
   "source": [
    "print('Ux = y  ...elementwise')\n",
    "eq_xyz=[]\n",
    "for i in range(len(Ux)):\n",
    "    eq_xyz.append(sp.Eq(Ux[i,0], _y[i]))\n",
    "    \n",
    "print(eq_xyz)"
   ]
  },
  {
   "cell_type": "markdown",
   "id": "fb768ec3",
   "metadata": {},
   "source": [
    "## Backward Substitution Begins... "
   ]
  },
  {
   "cell_type": "code",
   "execution_count": 15,
   "id": "3692569f",
   "metadata": {
    "scrolled": true
   },
   "outputs": [
    {
     "data": {
      "text/plain": [
       "[2.00000000000000]"
      ]
     },
     "execution_count": 15,
     "metadata": {},
     "output_type": "execute_result"
    }
   ],
   "source": [
    "zval=sp.solve(eq_xyz[2])\n",
    "zval"
   ]
  },
  {
   "cell_type": "code",
   "execution_count": 16,
   "id": "1a7858d6",
   "metadata": {},
   "outputs": [
    {
     "data": {
      "text/plain": [
       "[-1.00000000000000]"
      ]
     },
     "execution_count": 16,
     "metadata": {},
     "output_type": "execute_result"
    }
   ],
   "source": [
    "yval= sp.solve( eq_xyz[1].evalf(subs={z:zval[0]}) )\n",
    "yval"
   ]
  },
  {
   "cell_type": "code",
   "execution_count": 17,
   "id": "e7161c02",
   "metadata": {
    "scrolled": false
   },
   "outputs": [
    {
     "data": {
      "text/plain": [
       "[1.00000000000000]"
      ]
     },
     "execution_count": 17,
     "metadata": {},
     "output_type": "execute_result"
    }
   ],
   "source": [
    "xval= sp.solve( eq_xyz[0].evalf(subs={z:zval[0], y:yval[0]}) )\n",
    "xval"
   ]
  },
  {
   "cell_type": "code",
   "execution_count": 18,
   "id": "ae55a301",
   "metadata": {
    "scrolled": true
   },
   "outputs": [
    {
     "data": {
      "text/plain": [
       "array([[ 1.],\n",
       "       [-1.],\n",
       "       [ 2.]])"
      ]
     },
     "execution_count": 18,
     "metadata": {},
     "output_type": "execute_result"
    }
   ],
   "source": [
    "xyz_var= np.array([ [xval[0], yval[0], zval[0]]  ],dtype=float) #if dtype not provided array is returned as object\n",
    "xyz_var.T"
   ]
  },
  {
   "cell_type": "code",
   "execution_count": 19,
   "id": "db11e870",
   "metadata": {
    "scrolled": true
   },
   "outputs": [
    {
     "data": {
      "text/plain": [
       "array([[ True],\n",
       "       [ True],\n",
       "       [ True]])"
      ]
     },
     "execution_count": 19,
     "metadata": {},
     "output_type": "execute_result"
    }
   ],
   "source": [
    "(M @ xyz_var.T) - b.T == np.zeros((3,1))"
   ]
  },
  {
   "cell_type": "code",
   "execution_count": 20,
   "id": "239b0329",
   "metadata": {
    "scrolled": true
   },
   "outputs": [
    {
     "data": {
      "text/plain": [
       "True"
      ]
     },
     "execution_count": 20,
     "metadata": {},
     "output_type": "execute_result"
    }
   ],
   "source": [
    "np.allclose(M @ xyz_var.T, b.T)"
   ]
  }
 ],
 "metadata": {
  "kernelspec": {
   "display_name": "Python 3 (ipykernel)",
   "language": "python",
   "name": "python3"
  },
  "language_info": {
   "codemirror_mode": {
    "name": "ipython",
    "version": 3
   },
   "file_extension": ".py",
   "mimetype": "text/x-python",
   "name": "python",
   "nbconvert_exporter": "python",
   "pygments_lexer": "ipython3",
   "version": "3.9.12"
  }
 },
 "nbformat": 4,
 "nbformat_minor": 5
}
