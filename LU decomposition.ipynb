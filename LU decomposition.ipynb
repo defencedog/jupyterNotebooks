{
 "cells": [
  {
   "cell_type": "code",
   "execution_count": 1,
   "id": "933d3c21",
   "metadata": {},
   "outputs": [],
   "source": [
    "import numpy as np\n",
    "import sympy as sp\n",
    "from scipy.linalg import lu "
   ]
  },
  {
   "cell_type": "markdown",
   "id": "e13ba0da",
   "metadata": {},
   "source": [
    "Three linear eq.s</br>\n",
    "<math xmlns=\"http://www.w3.org/1998/Math/MathML\">\n",
    "  <mtable columnalign=\"right left right left right left right left right left right left\" rowspacing=\"3pt\" columnspacing=\"0em 2em 0em 2em 0em 2em 0em 2em 0em 2em 0em\" displaystyle=\"true\">\n",
    "    <mtr>\n",
    "      <mtd>\n",
    "        <mi>x</mi>\n",
    "        <mo>&#x2212;<!-- − --></mo>\n",
    "        <mn>2</mn>\n",
    "        <mi>y</mi>\n",
    "        <mo>+</mo>\n",
    "        <mn>3</mn>\n",
    "        <mi>z</mi>\n",
    "        <mo>=</mo>\n",
    "        <mn>9</mn>\n",
    "      </mtd>\n",
    "      <mtd />\n",
    "      <mtd>\n",
    "        <mtext>...(1)</mtext>\n",
    "      </mtd>\n",
    "    </mtr>\n",
    "    <mtr>\n",
    "      <mtd>\n",
    "        <mo>&#x2212;<!-- − --></mo>\n",
    "        <mi>x</mi>\n",
    "        <mo>+</mo>\n",
    "        <mn>3</mn>\n",
    "        <mi>y</mi>\n",
    "        <mo>&#x2212;<!-- − --></mo>\n",
    "        <mi>z</mi>\n",
    "        <mo>=</mo>\n",
    "        <mo>&#x2212;<!-- − --></mo>\n",
    "        <mn>6</mn>\n",
    "      </mtd>\n",
    "      <mtd />\n",
    "      <mtd>\n",
    "        <mtext>...(2)</mtext>\n",
    "      </mtd>\n",
    "    </mtr>\n",
    "    <mtr>\n",
    "      <mtd>\n",
    "        <mn>2</mn>\n",
    "        <mi>x</mi>\n",
    "        <mo>&#x2212;<!-- − --></mo>\n",
    "        <mn>5</mn>\n",
    "        <mi>y</mi>\n",
    "        <mo>+</mo>\n",
    "        <mn>5</mn>\n",
    "        <mi>z</mi>\n",
    "        <mo>=</mo>\n",
    "        <mn>17</mn>\n",
    "      </mtd>\n",
    "      <mtd />\n",
    "      <mtd>\n",
    "        <mtext>...(3)</mtext>\n",
    "      </mtd>\n",
    "    </mtr>\n",
    "  </mtable>\n",
    "</math>"
   ]
  },
  {
   "cell_type": "code",
   "execution_count": 2,
   "id": "d6b8a267",
   "metadata": {},
   "outputs": [
    {
     "data": {
      "text/plain": [
       "array([[ 1, -2,  3],\n",
       "       [-1,  3, -1],\n",
       "       [ 2, -5,  5]])"
      ]
     },
     "execution_count": 2,
     "metadata": {},
     "output_type": "execute_result"
    }
   ],
   "source": [
    "M= np.array([ [1,-2,3], [-1,3,-1], [2,-5,5] ]) \n",
    "M"
   ]
  },
  {
   "cell_type": "code",
   "execution_count": 3,
   "id": "af08eb51",
   "metadata": {},
   "outputs": [
    {
     "data": {
      "text/plain": [
       "array([[ 9],\n",
       "       [-6],\n",
       "       [17]])"
      ]
     },
     "execution_count": 3,
     "metadata": {},
     "output_type": "execute_result"
    }
   ],
   "source": [
    "b= np.array([ [9,-6,17] ]) \n",
    "b.T"
   ]
  },
  {
   "cell_type": "code",
   "execution_count": 4,
   "id": "39ec4a23",
   "metadata": {},
   "outputs": [
    {
     "name": "stdout",
     "output_type": "stream",
     "text": [
      "P:\n",
      " [[0. 0. 1.]\n",
      " [0. 1. 0.]\n",
      " [1. 0. 0.]]\n",
      "L:\n",
      " [[ 1.   0.   0. ]\n",
      " [-0.5  1.   0. ]\n",
      " [ 0.5  1.   1. ]]\n",
      "U:\n",
      " [[ 2.  -5.   5. ]\n",
      " [ 0.   0.5  1.5]\n",
      " [ 0.   0.  -1. ]]\n"
     ]
    }
   ],
   "source": [
    "P, L, U = lu(M)\n",
    "print('P:\\n',P)\n",
    "print('L:\\n',L)\n",
    "print('U:\\n',U)"
   ]
  },
  {
   "cell_type": "markdown",
   "id": "5001dd8e",
   "metadata": {},
   "source": [
    "https://en.wikipedia.org/wiki/LU_decomposition#Solving_linear_equations"
   ]
  },
  {
   "cell_type": "code",
   "execution_count": 5,
   "id": "8bcaf43d",
   "metadata": {},
   "outputs": [
    {
     "data": {
      "text/plain": [
       "array([[17.],\n",
       "       [-6.],\n",
       "       [ 9.]])"
      ]
     },
     "execution_count": 5,
     "metadata": {},
     "output_type": "execute_result"
    }
   ],
   "source": [
    "Pb = P @ b.T \n",
    "Pb"
   ]
  },
  {
   "cell_type": "code",
   "execution_count": 6,
   "id": "03f0946e",
   "metadata": {},
   "outputs": [],
   "source": [
    "x,y,z = sp.symbols([ 'x', 'y', 'z' ]) #actual variables\n",
    "p,q,r = sp.symbols([ 'p', 'q', 'r' ]) #pseudo variables represent y ...see WIKI"
   ]
  },
  {
   "cell_type": "code",
   "execution_count": 7,
   "id": "62a5586b",
   "metadata": {},
   "outputs": [],
   "source": [
    "actual_var=np.array([ [x,y,z] ])\n",
    "pseudo_var=np.array([ [p,q,r] ])"
   ]
  },
  {
   "cell_type": "code",
   "execution_count": 8,
   "id": "bd2cee72",
   "metadata": {},
   "outputs": [
    {
     "name": "stdout",
     "output_type": "stream",
     "text": [
      "Ly = Pb ..in an elementwise manner\n",
      "[Eq(1.0*p, 17.0), Eq(-0.5*p + 1.0*q, -6.0), Eq(0.5*p + 1.0*q + 1.0*r, 9.0)]\n"
     ]
    }
   ],
   "source": [
    "Ly=L @ pseudo_var.T\n",
    "print('Ly = Pb ..in an elementwise manner')\n",
    "\n",
    "eq_pqr=[]\n",
    "for i in range(len(Ly)):\n",
    "    eq_pqr.append(sp.Eq(Ly[i,0], Pb[i,0]))\n",
    "    \n",
    "print(eq_pqr)"
   ]
  },
  {
   "cell_type": "markdown",
   "id": "caf81988",
   "metadata": {},
   "source": [
    "## Forward Substitution Begins... "
   ]
  },
  {
   "cell_type": "code",
   "execution_count": 9,
   "id": "fb30dc61",
   "metadata": {},
   "outputs": [
    {
     "data": {
      "text/plain": [
       "[17.0000000000000]"
      ]
     },
     "execution_count": 9,
     "metadata": {},
     "output_type": "execute_result"
    }
   ],
   "source": [
    "pval= sp.solve(eq_pqr[0])\n",
    "pval"
   ]
  },
  {
   "cell_type": "code",
   "execution_count": 10,
   "id": "96e7b0ae",
   "metadata": {},
   "outputs": [
    {
     "data": {
      "text/plain": [
       "[2.50000000000000]"
      ]
     },
     "execution_count": 10,
     "metadata": {},
     "output_type": "execute_result"
    }
   ],
   "source": [
    "qval= sp.solve( eq_pqr[1].evalf(subs={p:pval[0]}) )\n",
    "qval"
   ]
  },
  {
   "cell_type": "code",
   "execution_count": 11,
   "id": "7b1fc698",
   "metadata": {},
   "outputs": [
    {
     "data": {
      "text/plain": [
       "[-2.00000000000000]"
      ]
     },
     "execution_count": 11,
     "metadata": {},
     "output_type": "execute_result"
    }
   ],
   "source": [
    "rval= sp.solve( eq_pqr[2].evalf(subs={p:pval[0], q:qval[0]}) )\n",
    "rval"
   ]
  },
  {
   "cell_type": "markdown",
   "id": "60e18a9f",
   "metadata": {},
   "source": [
    "## First Step Completed"
   ]
  },
  {
   "cell_type": "code",
   "execution_count": 12,
   "id": "dbf23704",
   "metadata": {},
   "outputs": [
    {
     "data": {
      "text/plain": [
       "[17.0000000000000, 2.50000000000000, -2.00000000000000]"
      ]
     },
     "execution_count": 12,
     "metadata": {},
     "output_type": "execute_result"
    }
   ],
   "source": [
    "_y= [pval[0], qval[0], rval[0]]  #recast as y for known p,q,r to keep in line with WIKI syntax\n",
    "_y"
   ]
  },
  {
   "cell_type": "code",
   "execution_count": 13,
   "id": "b2f7f3c3",
   "metadata": {},
   "outputs": [
    {
     "data": {
      "text/plain": [
       "array([[2.0*x - 5.0*y + 5.0*z],\n",
       "       [0.5*y + 1.5*z],\n",
       "       [-1.0*z]], dtype=object)"
      ]
     },
     "execution_count": 13,
     "metadata": {},
     "output_type": "execute_result"
    }
   ],
   "source": [
    "Ux= U @ actual_var.T\n",
    "Ux"
   ]
  },
  {
   "cell_type": "code",
   "execution_count": 14,
   "id": "a483400d",
   "metadata": {},
   "outputs": [
    {
     "name": "stdout",
     "output_type": "stream",
     "text": [
      "Ux = y  ...elementwise\n",
      "[Eq(2.0*x - 5.0*y + 5.0*z, 17.0), Eq(0.5*y + 1.5*z, 2.5), Eq(-1.0*z, -2.0)]\n"
     ]
    }
   ],
   "source": [
    "print('Ux = y  ...elementwise')\n",
    "eq_xyz=[]\n",
    "for i in range(len(Ux)):\n",
    "    eq_xyz.append(sp.Eq(Ux[i,0], _y[i]))\n",
    "    \n",
    "print(eq_xyz)"
   ]
  },
  {
   "cell_type": "markdown",
   "id": "fb768ec3",
   "metadata": {},
   "source": [
    "## Backward Substitution Begins... "
   ]
  },
  {
   "cell_type": "code",
   "execution_count": 15,
   "id": "3692569f",
   "metadata": {
    "scrolled": true
   },
   "outputs": [
    {
     "data": {
      "text/plain": [
       "[2.00000000000000]"
      ]
     },
     "execution_count": 15,
     "metadata": {},
     "output_type": "execute_result"
    }
   ],
   "source": [
    "zval=sp.solve(eq_xyz[2])\n",
    "zval"
   ]
  },
  {
   "cell_type": "code",
   "execution_count": 16,
   "id": "1a7858d6",
   "metadata": {},
   "outputs": [
    {
     "data": {
      "text/plain": [
       "[-1.00000000000000]"
      ]
     },
     "execution_count": 16,
     "metadata": {},
     "output_type": "execute_result"
    }
   ],
   "source": [
    "yval= sp.solve( eq_xyz[1].evalf(subs={z:zval[0]}) )\n",
    "yval"
   ]
  },
  {
   "cell_type": "code",
   "execution_count": 17,
   "id": "e7161c02",
   "metadata": {
    "scrolled": false
   },
   "outputs": [
    {
     "data": {
      "text/plain": [
       "[1.00000000000000]"
      ]
     },
     "execution_count": 17,
     "metadata": {},
     "output_type": "execute_result"
    }
   ],
   "source": [
    "xval= sp.solve( eq_xyz[0].evalf(subs={z:zval[0], y:yval[0]}) )\n",
    "xval"
   ]
  },
  {
   "cell_type": "code",
   "execution_count": 18,
   "id": "ae55a301",
   "metadata": {
    "scrolled": true
   },
   "outputs": [
    {
     "data": {
      "text/plain": [
       "array([[1.00000000000000],\n",
       "       [-1.00000000000000],\n",
       "       [2.00000000000000]], dtype=object)"
      ]
     },
     "execution_count": 18,
     "metadata": {},
     "output_type": "execute_result"
    }
   ],
   "source": [
    "xyz_var= np.array([ [xval[0], yval[0], zval[0] ] ])\n",
    "xyz_var.T"
   ]
  },
  {
   "cell_type": "code",
   "execution_count": 19,
   "id": "db11e870",
   "metadata": {
    "scrolled": true
   },
   "outputs": [
    {
     "data": {
      "text/plain": [
       "array([[ True],\n",
       "       [ True],\n",
       "       [ True]])"
      ]
     },
     "execution_count": 19,
     "metadata": {},
     "output_type": "execute_result"
    }
   ],
   "source": [
    "(M @ xyz_var.T) - b.T == np.zeros((3,1))"
   ]
  },
  {
   "cell_type": "code",
   "execution_count": 20,
   "id": "239b0329",
   "metadata": {
    "scrolled": true
   },
   "outputs": [
    {
     "ename": "TypeError",
     "evalue": "ufunc 'isfinite' not supported for the input types, and the inputs could not be safely coerced to any supported types according to the casting rule ''safe''",
     "output_type": "error",
     "traceback": [
      "\u001b[1;31m---------------------------------------------------------------------------\u001b[0m",
      "\u001b[1;31mTypeError\u001b[0m                                 Traceback (most recent call last)",
      "Input \u001b[1;32mIn [20]\u001b[0m, in \u001b[0;36m<cell line: 1>\u001b[1;34m()\u001b[0m\n\u001b[1;32m----> 1\u001b[0m \u001b[43mnp\u001b[49m\u001b[38;5;241;43m.\u001b[39;49m\u001b[43mallclose\u001b[49m\u001b[43m(\u001b[49m\u001b[43mM\u001b[49m\u001b[43m \u001b[49m\u001b[38;5;241;43m@\u001b[39;49m\u001b[43m \u001b[49m\u001b[43mxyz_var\u001b[49m\u001b[38;5;241;43m.\u001b[39;49m\u001b[43mT\u001b[49m\u001b[43m,\u001b[49m\u001b[43m \u001b[49m\u001b[43mb\u001b[49m\u001b[38;5;241;43m.\u001b[39;49m\u001b[43mT\u001b[49m\u001b[43m)\u001b[49m\n",
      "File \u001b[1;32m<__array_function__ internals>:180\u001b[0m, in \u001b[0;36mallclose\u001b[1;34m(*args, **kwargs)\u001b[0m\n",
      "File \u001b[1;32mC:\\Miniconda3\\lib\\site-packages\\numpy\\core\\numeric.py:2265\u001b[0m, in \u001b[0;36mallclose\u001b[1;34m(a, b, rtol, atol, equal_nan)\u001b[0m\n\u001b[0;32m   2194\u001b[0m \u001b[38;5;129m@array_function_dispatch\u001b[39m(_allclose_dispatcher)\n\u001b[0;32m   2195\u001b[0m \u001b[38;5;28;01mdef\u001b[39;00m \u001b[38;5;21mallclose\u001b[39m(a, b, rtol\u001b[38;5;241m=\u001b[39m\u001b[38;5;241m1.e-5\u001b[39m, atol\u001b[38;5;241m=\u001b[39m\u001b[38;5;241m1.e-8\u001b[39m, equal_nan\u001b[38;5;241m=\u001b[39m\u001b[38;5;28;01mFalse\u001b[39;00m):\n\u001b[0;32m   2196\u001b[0m     \u001b[38;5;124;03m\"\"\"\u001b[39;00m\n\u001b[0;32m   2197\u001b[0m \u001b[38;5;124;03m    Returns True if two arrays are element-wise equal within a tolerance.\u001b[39;00m\n\u001b[0;32m   2198\u001b[0m \n\u001b[1;32m   (...)\u001b[0m\n\u001b[0;32m   2263\u001b[0m \n\u001b[0;32m   2264\u001b[0m \u001b[38;5;124;03m    \"\"\"\u001b[39;00m\n\u001b[1;32m-> 2265\u001b[0m     res \u001b[38;5;241m=\u001b[39m \u001b[38;5;28mall\u001b[39m(\u001b[43misclose\u001b[49m\u001b[43m(\u001b[49m\u001b[43ma\u001b[49m\u001b[43m,\u001b[49m\u001b[43m \u001b[49m\u001b[43mb\u001b[49m\u001b[43m,\u001b[49m\u001b[43m \u001b[49m\u001b[43mrtol\u001b[49m\u001b[38;5;241;43m=\u001b[39;49m\u001b[43mrtol\u001b[49m\u001b[43m,\u001b[49m\u001b[43m \u001b[49m\u001b[43matol\u001b[49m\u001b[38;5;241;43m=\u001b[39;49m\u001b[43matol\u001b[49m\u001b[43m,\u001b[49m\u001b[43m \u001b[49m\u001b[43mequal_nan\u001b[49m\u001b[38;5;241;43m=\u001b[39;49m\u001b[43mequal_nan\u001b[49m\u001b[43m)\u001b[49m)\n\u001b[0;32m   2266\u001b[0m     \u001b[38;5;28;01mreturn\u001b[39;00m \u001b[38;5;28mbool\u001b[39m(res)\n",
      "File \u001b[1;32m<__array_function__ internals>:180\u001b[0m, in \u001b[0;36misclose\u001b[1;34m(*args, **kwargs)\u001b[0m\n",
      "File \u001b[1;32mC:\\Miniconda3\\lib\\site-packages\\numpy\\core\\numeric.py:2372\u001b[0m, in \u001b[0;36misclose\u001b[1;34m(a, b, rtol, atol, equal_nan)\u001b[0m\n\u001b[0;32m   2369\u001b[0m     dt \u001b[38;5;241m=\u001b[39m multiarray\u001b[38;5;241m.\u001b[39mresult_type(y, \u001b[38;5;241m1.\u001b[39m)\n\u001b[0;32m   2370\u001b[0m     y \u001b[38;5;241m=\u001b[39m asanyarray(y, dtype\u001b[38;5;241m=\u001b[39mdt)\n\u001b[1;32m-> 2372\u001b[0m xfin \u001b[38;5;241m=\u001b[39m \u001b[43misfinite\u001b[49m\u001b[43m(\u001b[49m\u001b[43mx\u001b[49m\u001b[43m)\u001b[49m\n\u001b[0;32m   2373\u001b[0m yfin \u001b[38;5;241m=\u001b[39m isfinite(y)\n\u001b[0;32m   2374\u001b[0m \u001b[38;5;28;01mif\u001b[39;00m \u001b[38;5;28mall\u001b[39m(xfin) \u001b[38;5;129;01mand\u001b[39;00m \u001b[38;5;28mall\u001b[39m(yfin):\n",
      "\u001b[1;31mTypeError\u001b[0m: ufunc 'isfinite' not supported for the input types, and the inputs could not be safely coerced to any supported types according to the casting rule ''safe''"
     ]
    }
   ],
   "source": [
    "np.allclose(M @ xyz_var.T, b.T)"
   ]
  }
 ],
 "metadata": {
  "kernelspec": {
   "display_name": "Python 3 (ipykernel)",
   "language": "python",
   "name": "python3"
  },
  "language_info": {
   "codemirror_mode": {
    "name": "ipython",
    "version": 3
   },
   "file_extension": ".py",
   "mimetype": "text/x-python",
   "name": "python",
   "nbconvert_exporter": "python",
   "pygments_lexer": "ipython3",
   "version": "3.9.12"
  }
 },
 "nbformat": 4,
 "nbformat_minor": 5
}
