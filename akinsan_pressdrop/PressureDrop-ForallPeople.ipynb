{
 "cells": [
  {
   "cell_type": "markdown",
   "id": "eaf4fd5c",
   "metadata": {},
   "source": [
    "## Pressure Drop Calculations & Optimum Line Size Selection Using Explicit Emperical Equations\n",
    "<center><img src=\"resources/pipe-l.jpg\" width=60% />\n",
    "Image shows approximate pipe length required, add extra 20% margin for piping turns & elevations</center>"
   ]
  },
  {
   "cell_type": "markdown",
   "id": "9d064d05",
   "metadata": {},
   "source": [
    "These are `python` libraries needed for unit conversion & mathematical functions "
   ]
  },
  {
   "cell_type": "code",
   "execution_count": 1,
   "id": "42f42e1a",
   "metadata": {},
   "outputs": [],
   "source": [
    "import handcalcs.render\n",
    "from handcalcs.decorator import handcalc\n",
    "from math import log, log10, sqrt, pi, exp"
   ]
  },
  {
   "cell_type": "code",
   "execution_count": 2,
   "id": "94009ac8",
   "metadata": {},
   "outputs": [],
   "source": [
    "import forallpeople as si\n",
    "si.environment('ukhan', top_level=True)"
   ]
  },
  {
   "cell_type": "markdown",
   "id": "b13d08fb",
   "metadata": {},
   "source": [
    "Research paper:  [A review of non iterative friction factor correlations for the calculation of pressure drop in pipes](https://dergipark.org.tr/tr/download/article-file/40279)\n",
    "\n",
    "> Results gained from error analysis are briefly explained below. If the approximation formulas are scaled in the order of relative error, <mark>best results are obtained from the Goudar & Sonnad (2008) and Serghides (1984) correlations</mark>. The worst results are gained from the Altshul (1952) and Wood (1966) correlations.\n",
    "> When a comparison is made according to the degree of the relative error, the Goudar & Sonnad (2008) correlation with an error percentage 10-9 % is very close to the result obtained from the Colebrook-White equation. Then the next best equation is achieved by the Serghides (1984) correlation with an error percentage of 10-4 % which can also be used practically.\n",
    "> <mark>Because of the high precision of the selected correlations, the need for using the Colebrook-White iterative solution seems to be eliminated.</mark>"
   ]
  },
  {
   "cell_type": "markdown",
   "id": "d981802f",
   "metadata": {},
   "source": [
    "## Table-1 Pipe Fittings Equivalent Lengths\n",
    "<table><tbody><tr><th>Fitting</th><th>Types</th><th class=centered width>(L/D)eq</th></tr><tr><td rowspan=2>90° Elbow Curved, Threaded</td><td>Standard Radius (R/D = 1)</td><td class=centered>30</td></tr><tr><td>Long Radius (R/D = 1.5)</td><td class=\n",
    "centered>16</td></tr><tr><td rowspan=4>90° Elbow Curved, Flanged/Welded</td><td>Standard Radius (R/D = 1)</td><td class=centered>20</td></tr>\n",
    "<tr><td>Long Radius (R/D = 2)</td><td class=centered>17</td></tr><tr><td>Long Radius (R/D = 4)</td><td class=centered>14</td></tr><tr><td>Lon\n",
    "g Radius (R/D = 6)</td><td class=centered>12</td></tr><tr><td rowspan=3>90° Elbow Mitered</td><td>1 weld (90°)</td><td class=centered>60</td>\n",
    "</tr><tr><td>2 welds (45°)</td><td class=centered>15</td></tr><tr><td>3 welds (30°)</td><td class=centered>8</td></tr><tr><td rowspan=2>45° Elbow Curved. Threaded</td><td>Standard Radius (R/D = 1)</td><td class=centered>16</td></tr><tr><td>Long Radius (R/D = 1.5)</td><td class=cent\n",
    "ered></td></tr><tr><td rowspan=2>45° Elbow Mitered</td><td>1 weld 45°</td><td class=centered>15</td></tr><tr><td>2 welds 22.5°</td><td class=\n",
    "centered>6</td></tr><tr><td rowspan=3>180° Bend</td><td>threaded, close-return (R/D = 1)</td><td class=centered>50</td></tr><tr><td>flanged (\n",
    "R/D = 1)</td><td class=centered></td></tr><tr><td>all types (R/D = 1.5)</td><td class=centered></td></tr><tr><td rowspan=4>Tee Through-branch\n",
    " as an Elbow</td><td>threaded (r/D = 1)</td><td class=centered>60</td></tr><tr><td>threaded (r/D = 1.5)</td><td class=centered></td></tr><tr>\n",
    "<td>flanged (r/D = 1)</td><td class=centered>20</td></tr><tr><td>stub-in branch</td><td class=centered></td></tr><tr><td rowspan=3>Tee Run-through</td><td>threaded (r/D = 1)</td><td class=centered>20</td></tr><tr><td>flanged (r/D = 1)</td><td class=centered></td></tr><tr><td>stub-i\n",
    "n branch</td><td class=centered></td></tr><tr><td rowspan=2>Angle valve</td><td>45°, full line size, β = 1</td><td class=centered>55</td></tr\n",
    "><tr><td>90° full line size, β = 1</td><td class=centered>150</td></tr><tr><td>Globe valve</td><td>standard, β = 1</td><td class=centered>340\n",
    "</td></tr><tr><td rowspan=3>Plug valve</td><td>branch flow</td><td class=centered>90</td></tr><tr><td>straight through</td><td class=centered>18</td></tr><tr><td>three-way (flow through)</td><td class=centered>30</td></tr><tr><td>Gate valve</td><td>standard, β = 1</td><td class=centered>8</td></tr><tr><td>Ball valve</td><td>standard, β = 1</td><td class=centered>3</td></tr><tr><td>Diaphragm</td><td>dam type</td><td clas\n",
    "s=centered></td></tr><tr><td>Swing check valve</td><td>V<sub>min</sub> = 35 [ρ (lbm/ft^<sup>3</sup>)]<sup>-1/2</sup></td><td class=centered>100</td></tr><tr><td>Lift check valve</td><td>V<sub>min</sub> = 40 [ρ (lbm/ft<sup>3</sup>)]<sup>-1/2</sup></td><td class=centered>600</td></tr\n",
    "><tr><td>Hose Coupling</td><td>Simple, Full Bore</td><td class=centered>5</td></tr></tbody></table>\n"
   ]
  },
  {
   "cell_type": "markdown",
   "id": "1a85e7d6",
   "metadata": {},
   "source": [
    "## Table-2 Absolute Roughness ξ\n",
    "<table class=centered><tbody><tr><th class=centered><b>Material</b></th><th width=150px class=centered><b>Roughness (mm)</b>\n",
    "</th></tr><tr><td>Drawn Tubing, Glass, Plastic</td><td class=centered>0.0015-0.01</td></tr><tr><td>Drawn Brass, Copper, Stainless Steel (New)\n",
    "</td><td class=centered>>0.0015-0.01</td></tr><tr><td>Flexible Rubber Tubing - Smooth</td><td class=centered>0.006-0.07</td></tr><tr><td>Flexible Rubber Tubing - Wire Reinforced</td><td class=centered>0.3-4</td></tr><tr><td>Stainless Steel</td><td class=centered>0.03</td></tr><tr><td>Wrought Iron (New)</td><td class=centered>0.045</td></tr><tr><td>Carbon Steel (New)</td><td class=centered>0.02-0.05</td></tr><tr><td>Carb\n",
    "on Steel (Slightly Corroded)</td><td class=centered>0.05-0.15</td></tr><tr><td>Carbon Steel (Moderately Corroded)</td><td class=centered>0.15-1</td></tr><tr><td>Carbon Steel (Badly Corroded)</td><td class=centered>1-3</td></tr><tr><td>Carbon Steel (Cement-lined)</td><td class=centered>1.5</td></tr><tr><td>Asphalted Cast Iron</td><td class=centered>0.1-1</td></tr><tr><td>Cast Iron (new)</td><td class=centered>0.25</td></tr><tr><td>Cast Iron (old, sandblasted)</td><td class=centered>1</td></tr><tr><td>Sheet Metal Ducts (with smooth joints)</td><td class=centered>0.02-0.1</td></tr><tr><td>Galvanized Iron</td><td class=centered>0.025-0.15</td></tr><tr><td>Wood Stave</td><td class=centered>0.18-0.91</td></tr><tr><td>Wood Stave, used</td><td class=centered>0.25-1</td></tr><tr><td>Smooth Cement</td><td class=centered>0.5</td></tr><tr><td>Concrete – Very Smooth</td><td class=centered>0.025-0.2</td></tr><tr><td>Concrete – Fine (Floated, Brushed)</td><td class=centered>0.2-0.8</td></tr><tr><td>Concrete – Rough, Form Marks</td><td class=centered>0.8-3</td></tr><tr><td>Riveted Steel</td><td class=centered>0.91-9.1</td></tr><tr><td>Water Mains with Tuberculations</td><td class=centered>1.2</td></tr><tr><td>Brickwork, Mature Foul Sewers</td><td class=centered>3</td></tr></tbody></table>\n",
    "\n",
    "Source:  [https://neutrium.net](https://neutrium.net/fluid-flow/pressure-loss-from-fittings-in-pipe-summary/)"
   ]
  },
  {
   "cell_type": "code",
   "execution_count": 3,
   "id": "5b90de03",
   "metadata": {},
   "outputs": [
    {
     "data": {
      "text/latex": [
       "\\[\n",
       "\\begin{aligned}\n",
       "\\mathrm{PipeL} &= 110.5\\ \\mathrm{m} \\; \\;\\textrm{(20% additional length)}\n",
       " &\\mathrm{PipeID} &= 50.0\\ \\mathrm{mm} \\; \\;\\textrm{(Internal Dia)}\n",
       " &PP_{\\xi} &= 10.0\\ \\mathrm{μm} \\; \\;\\textrm{(PolyPropylene Roughness)}\n",
       "\\\\[10pt]\n",
       "\\end{aligned}\n",
       "\\]"
      ],
      "text/plain": [
       "<IPython.core.display.Latex object>"
      ]
     },
     "metadata": {},
     "output_type": "display_data"
    }
   ],
   "source": [
    "%%render params 1\n",
    "PipeL = (302*1.2) *ft.to(m)  #20% additional length\n",
    "PipeID = 50 *mm  #Internal Dia\n",
    "PP_xi = 0.01 *mm  #PolyPropylene Roughness"
   ]
  },
  {
   "cell_type": "code",
   "execution_count": 4,
   "id": "4dd5e3d1",
   "metadata": {
    "scrolled": true
   },
   "outputs": [
    {
     "data": {
      "text/latex": [
       "\\[\n",
       "\\begin{aligned}\n",
       "\\mathrm{flow}_{H2O} &= 5.0\\ \\mathrm{m³} \\cdot \\mathrm{h^{-1}} \\; \n",
       " &\\rho_{H2O} &= 988.0\\ \\mathrm{kg} \\cdot \\mathrm{m^{-3}} \\; \\;\\textrm{(at 50°C)}\n",
       " &\\nu_{H2O} &= 546.5\\ \\mathrm{μPa} \\cdot \\mathrm{s} \\; \\;\\textrm{(Viscosity in centiPoise is equal to mPa.s)}\n",
       "\\\\[10pt]\n",
       "\\end{aligned}\n",
       "\\]"
      ],
      "text/plain": [
       "<IPython.core.display.Latex object>"
      ]
     },
     "metadata": {},
     "output_type": "display_data"
    }
   ],
   "source": [
    "%%render params 1\n",
    "flow_H2O = 5 *m3_h\n",
    "rho_H2O = 988 *kg_m3.prefix('unity') # at 50°C\n",
    "nu_H2O = 0.5465 *cP #Viscosity in centiPoise is equal to mPa.s"
   ]
  },
  {
   "cell_type": "markdown",
   "id": "d1580bf7",
   "metadata": {},
   "source": [
    "Water physical properties: [https://wiki.anton-paar.com/en/water/](https://wiki.anton-paar.com/en/water/)"
   ]
  },
  {
   "cell_type": "code",
   "execution_count": 5,
   "id": "060cd488",
   "metadata": {},
   "outputs": [
    {
     "data": {
      "text/latex": [
       "\\[\n",
       "\\begin{aligned}\n",
       "\\mathrm{Elbows} &= 10 \\; \\;\\textrm{(90° Elbow Threaded Standard)}\n",
       " &\\mathrm{Elbow}_{EqFactor} &= 30 \\; \n",
       " &\\mathrm{Valves} &= 2 \\; \\;\\textrm{(Ball valve)}\n",
       "\\\\[10pt]\n",
       " \\mathrm{Valve}_{EqFactor} &= 3 \\; \\;\\textrm{(Refer Table-1)}\n",
       "\\end{aligned}\n",
       "\\]"
      ],
      "text/plain": [
       "<IPython.core.display.Latex object>"
      ]
     },
     "metadata": {},
     "output_type": "display_data"
    }
   ],
   "source": [
    "%%render params 1\n",
    "Elbows = 10  #90° Elbow Threaded Standard\n",
    "Elbow_EqFactor = 30  \n",
    "Valves = 2 #Ball valve\n",
    "Valve_EqFactor = 3  #Refer Table-1"
   ]
  },
  {
   "cell_type": "code",
   "execution_count": 6,
   "id": "62fb6c96",
   "metadata": {
    "scrolled": true
   },
   "outputs": [
    {
     "data": {
      "text/latex": [
       "\\[\n",
       "\\begin{aligned}\n",
       "\\Sigma_{PipeL} &= \\mathrm{PipeL} + \\left( \\mathrm{Elbows} \\cdot \\mathrm{Elbow}_{EqFactor} \\cdot \\mathrm{PipeID} \\right) + \\left( \\mathrm{Valves} \\cdot \\mathrm{Valve}_{EqFactor} \\cdot \\mathrm{PipeID} \\right) \\\\&= 110.460\\ \\mathrm{m} + \\left( 10 \\cdot 30 \\cdot 50.000\\ \\mathrm{mm} \\right) + \\left( 2 \\cdot 3 \\cdot 50.000\\ \\mathrm{mm} \\right) \\\\&= 125.760\\ \\mathrm{m}  \\\\[10pt]\n",
       "\\end{aligned}\n",
       "\\]"
      ],
      "text/plain": [
       "<IPython.core.display.Latex object>"
      ]
     },
     "metadata": {},
     "output_type": "display_data"
    }
   ],
   "source": [
    "%%render long\n",
    "Sigma_PipeL = PipeL + (Elbows*Elbow_EqFactor*PipeID) + (Valves*Valve_EqFactor*PipeID)"
   ]
  },
  {
   "cell_type": "code",
   "execution_count": 7,
   "id": "a99af319",
   "metadata": {},
   "outputs": [],
   "source": [
    "@handcalc(jupyter_display=True)\n",
    "def reynolds(D, F, rho, nu):\n",
    "    A = 0.25 * pi * D**2\n",
    "    velocity = F / A  #Calculate velocity \n",
    "    NRe = (D * velocity * rho) / nu #Calculate Reynold's number\n",
    "    return velocity, NRe"
   ]
  },
  {
   "cell_type": "code",
   "execution_count": 8,
   "id": "ce7079c9",
   "metadata": {
    "scrolled": false
   },
   "outputs": [
    {
     "data": {
      "text/latex": [
       "\\[\n",
       "\\begin{aligned}\n",
       "A &= 0.25 \\cdot \\pi \\cdot \\left( D \\right) ^{ 2 }  = 0.25 \\cdot 3.142 \\cdot \\left( 50.000\\ \\mathrm{mm} \\right) ^{ 2 } &= 1963.495\\ \\mathrm{mm}^{2}  \n",
       "\\\\[10pt]\n",
       "\\mathrm{velocity} &= \\frac{ F }{ A }  = \\frac{ 5.000\\ \\mathrm{m³} \\cdot \\mathrm{h^{-1}} }{ 1963.495\\ \\mathrm{mm}^{2} } &= 707.355\\ \\mathrm{mm} \\cdot \\mathrm{s^{-1}} \\; \\;\\textrm{(Calculate velocity)}\n",
       "\\\\[10pt]\n",
       "\\mathrm{NRe} &= \\frac{ D \\cdot \\mathrm{velocity} \\cdot \\rho }{ \\nu }  = \\frac{ 50.000\\ \\mathrm{mm} \\cdot 707.355\\ \\mathrm{mm} \\cdot \\mathrm{s^{-1}} \\cdot 988.000\\ \\mathrm{kg} \\cdot \\mathrm{m^{-3}} }{ 546.500\\ \\mathrm{μPa} \\cdot \\mathrm{s} } &= 63940.260 \\; \\;\\textrm{(Calculate Reynold's number)}\n",
       "\\end{aligned}\n",
       "\\]"
      ],
      "text/plain": [
       "<IPython.core.display.Latex object>"
      ]
     },
     "metadata": {},
     "output_type": "display_data"
    }
   ],
   "source": [
    "velocity, NRe = reynolds(PipeID, flow_H2O, rho_H2O, nu_H2O)"
   ]
  },
  {
   "cell_type": "code",
   "execution_count": 9,
   "id": "a9a1d36e",
   "metadata": {},
   "outputs": [
    {
     "data": {
      "text/latex": [
       "\\[\n",
       "\\begin{aligned}\n",
       "&\\text{Since, } \\mathrm{NRe} \\gt 4000 \\rightarrow \\left( 63940.2597 \\gt 4000 \\right) :   \\\\[10pt]\n",
       "\\mathrm{Flow} &= \\mathrm{Turbulent} \\; \n",
       "\\\\[10pt]\n",
       "\\mathrm{PipeRR} &= \\frac{ PP_{\\xi} }{ \\mathrm{PipeID} }  = \\frac{ 10.0000\\ \\mathrm{μm} }{ 50.0000\\ \\mathrm{mm} } &= 0.0002 \\; \\;\\textrm{(Pipe Relative Roughness)}\n",
       "\\end{aligned}\n",
       "\\]"
      ],
      "text/plain": [
       "<IPython.core.display.Latex object>"
      ]
     },
     "metadata": {},
     "output_type": "display_data"
    }
   ],
   "source": [
    "%%render 4\n",
    "if NRe <= 2100: Flow = 'Laminar'\n",
    "elif NRe <= 4000: Flow = 'Transient'\n",
    "elif NRe > 4000: Flow = 'Turbulent' \n",
    "\n",
    "PipeRR = PP_xi/PipeID #Pipe Relative Roughness"
   ]
  },
  {
   "cell_type": "markdown",
   "id": "af2e9f54",
   "metadata": {},
   "source": [
    "<center><img src=\"resources/moody-fig.jpg\" width=80% />\n",
    "Moody Friction Factor Figure</center>"
   ]
  },
  {
   "cell_type": "markdown",
   "id": "1f970496",
   "metadata": {},
   "source": [
    "## Method-1 Using Graph\n",
    "Relative Roughness is $0.0002$ </br>\n",
    "Reynolds number is approximately $6.4\\cdot10^4$ </br>\n",
    "Friction factor $f$ is approximately $0.022$"
   ]
  },
  {
   "cell_type": "code",
   "execution_count": 10,
   "id": "cb130b18",
   "metadata": {},
   "outputs": [],
   "source": [
    "@handcalc(jupyter_display=True)\n",
    "def pressuredrop(f, Sigma_L, D, rho, velocity):\n",
    "    Delta_p = f * (Sigma_L/D) * (rho*velocity**2)/2\n",
    "    return Delta_p"
   ]
  },
  {
   "cell_type": "code",
   "execution_count": 11,
   "id": "fa4b7a38",
   "metadata": {},
   "outputs": [
    {
     "data": {
      "text/latex": [
       "\\[\n",
       "\\begin{aligned}\n",
       "\\Delta_{p} &= f \\cdot \\left( \\frac{ \\Sigma_{L} }{ D } \\right) \\cdot \\frac{ \\rho \\cdot \\left( \\mathrm{velocity} \\right) ^{ 2 } }{ 2 } \\\\&= 0.022 \\cdot \\left( \\frac{ 125.760\\ \\mathrm{m} }{ 50.000\\ \\mathrm{mm} } \\right) \\cdot \\frac{ 988.000\\ \\mathrm{kg} \\cdot \\mathrm{m^{-3}} \\cdot \\left( 707.355\\ \\mathrm{mm} \\cdot \\mathrm{s^{-1}} \\right) ^{ 2 } }{ 2 } \\\\&= 13.677\\ \\mathrm{kPa}  \\\\[10pt]\n",
       "\\end{aligned}\n",
       "\\]"
      ],
      "text/plain": [
       "<IPython.core.display.Latex object>"
      ]
     },
     "metadata": {},
     "output_type": "display_data"
    }
   ],
   "source": [
    "Delta_p = pressuredrop(0.022,Sigma_PipeL, PipeID, rho_H2O, velocity)"
   ]
  },
  {
   "cell_type": "markdown",
   "id": "4764ce91",
   "metadata": {},
   "source": [
    "## Method-2 Using Churchill Emperical Equation"
   ]
  },
  {
   "cell_type": "code",
   "execution_count": 12,
   "id": "b390bae7",
   "metadata": {},
   "outputs": [],
   "source": [
    "@handcalc(jupyter_display=True, precision=4)\n",
    "def churchill(NRe, D, xi):\n",
    "    A = ( 2.457*log( 1 /( (7/NRe)**0.9 + 0.27*xi/D )) )**16\n",
    "    B = (37530/NRe)**16\n",
    "    f = 8 * ( (8/NRe)**12 + 1/(A+B)**1.5 )**(1/12)\n",
    "    return f"
   ]
  },
  {
   "cell_type": "code",
   "execution_count": 13,
   "id": "6d70e734",
   "metadata": {},
   "outputs": [
    {
     "data": {
      "text/latex": [
       "\\[\n",
       "\\begin{aligned}\n",
       "A &= \\left( 2.457 \\cdot \\ln \\left( \\frac{ 1 }{ \\left( \\frac{ 7 }{ \\mathrm{NRe} } \\right) ^{ 0.9 } + 0.27 \\cdot \\frac{ \\xi }{ D } } \\right) \\right) ^{ 16 } \\\\&= \\left( 2.457 \\cdot \\ln \\left( \\frac{ 1 }{ \\left( \\frac{ 7 }{ 63940.2597 } \\right) ^{ 0.9 } + 0.27 \\cdot \\frac{ 10.0000\\ \\mathrm{μm} }{ 50.0000\\ \\mathrm{mm} } } \\right) \\right) ^{ 16 } \\\\&= 524038602297619775488.0000  \\\\[10pt]\n",
       "\\\\[10pt]\n",
       "B &= \\left( \\frac{ 37530 }{ \\mathrm{NRe} } \\right) ^{ 16 }  = \\left( \\frac{ 37530 }{ 63940.2597 } \\right) ^{ 16 } &= 0.0002  \n",
       "\\\\[10pt]\n",
       "f &= 8 \\cdot \\left( \\left( \\frac{ 8 }{ \\mathrm{NRe} } \\right) ^{ 12 } + \\frac{ 1 }{ \\left( A + B \\right) ^{ 1.5 } } \\right) ^{ \\left( \\frac{ 1 }{ 12 } \\right) } \\\\&= 8 \\cdot \\left( \\left( \\frac{ 8 }{ 63940.2597 } \\right) ^{ 12 } + \\frac{ 1 }{ \\left( 524038602297619775488.0000 + 0.0002 \\right) ^{ 1.5 } } \\right) ^{ \\left( \\frac{ 1 }{ 12 } \\right) } \\\\&= 0.0206  \\\\[10pt]\n",
       "\\end{aligned}\n",
       "\\]"
      ],
      "text/plain": [
       "<IPython.core.display.Latex object>"
      ]
     },
     "metadata": {},
     "output_type": "display_data"
    }
   ],
   "source": [
    "f_churchill = churchill(NRe, PipeID, PP_xi)"
   ]
  },
  {
   "cell_type": "code",
   "execution_count": 14,
   "id": "280c121e",
   "metadata": {},
   "outputs": [
    {
     "data": {
      "text/latex": [
       "\\[\n",
       "\\begin{aligned}\n",
       "\\Delta_{p} &= f \\cdot \\left( \\frac{ \\Sigma_{L} }{ D } \\right) \\cdot \\frac{ \\rho \\cdot \\left( \\mathrm{velocity} \\right) ^{ 2 } }{ 2 } \\\\&= 0.021 \\cdot \\left( \\frac{ 125.760\\ \\mathrm{m} }{ 50.000\\ \\mathrm{mm} } \\right) \\cdot \\frac{ 988.000\\ \\mathrm{kg} \\cdot \\mathrm{m^{-3}} \\cdot \\left( 707.355\\ \\mathrm{mm} \\cdot \\mathrm{s^{-1}} \\right) ^{ 2 } }{ 2 } \\\\&= 12.786\\ \\mathrm{kPa}  \\\\[10pt]\n",
       "\\end{aligned}\n",
       "\\]"
      ],
      "text/plain": [
       "<IPython.core.display.Latex object>"
      ]
     },
     "metadata": {},
     "output_type": "display_data"
    }
   ],
   "source": [
    "Delta_pChurchill = pressuredrop(f_churchill, Sigma_PipeL, PipeID, rho_H2O, velocity)"
   ]
  },
  {
   "cell_type": "markdown",
   "id": "0e94f170",
   "metadata": {},
   "source": [
    "## Method-3 Using Serghides Emperical Equation"
   ]
  },
  {
   "cell_type": "code",
   "execution_count": 15,
   "id": "32b987e7",
   "metadata": {},
   "outputs": [],
   "source": [
    "@handcalc(jupyter_display=True, precision=4)\n",
    "def serghide(NRe, D, xi):\n",
    "    A = -2*log10( (xi/D)/3.7 + 12/NRe )\n",
    "    B = -2*log10( (xi/D)/3.7 + 2.51*A/NRe )\n",
    "    C = -2*log10( (xi/D)/3.7 + 2.51*B/NRe )\n",
    "    f = ( A - ( (B-A)**2 )/(C - 2*B + A) )**(-2)\n",
    "    return f"
   ]
  },
  {
   "cell_type": "code",
   "execution_count": 16,
   "id": "47de841c",
   "metadata": {},
   "outputs": [
    {
     "data": {
      "text/latex": [
       "\\[\n",
       "\\begin{aligned}\n",
       "A &= \\left( - 2 \\right) \\cdot \\log_{10} \\left( \\frac{ \\frac{ \\xi }{ D } }{ 3.7 } + \\frac{ 12 }{ \\mathrm{NRe} } \\right)  = \\left( - 2 \\right) \\cdot \\log_{10} \\left( \\frac{ \\frac{ 10.0000\\ \\mathrm{μm} }{ 50.0000\\ \\mathrm{mm} } }{ 3.7 } + \\frac{ 12 }{ 63940.2597 } \\right) &= 7.2333  \n",
       "\\\\[10pt]\n",
       "B &= \\left( - 2 \\right) \\cdot \\log_{10} \\left( \\frac{ \\frac{ \\xi }{ D } }{ 3.7 } + 2.51 \\cdot \\frac{ A }{ \\mathrm{NRe} } \\right) \\\\&= \\left( - 2 \\right) \\cdot \\log_{10} \\left( \\frac{ \\frac{ 10.0000\\ \\mathrm{μm} }{ 50.0000\\ \\mathrm{mm} } }{ 3.7 } + 2.51 \\cdot \\frac{ 7.2333 }{ 63940.2597 } \\right) \\\\&= 6.9422  \\\\[10pt]\n",
       "\\\\[10pt]\n",
       "C &= \\left( - 2 \\right) \\cdot \\log_{10} \\left( \\frac{ \\frac{ \\xi }{ D } }{ 3.7 } + 2.51 \\cdot \\frac{ B }{ \\mathrm{NRe} } \\right) \\\\&= \\left( - 2 \\right) \\cdot \\log_{10} \\left( \\frac{ \\frac{ 10.0000\\ \\mathrm{μm} }{ 50.0000\\ \\mathrm{mm} } }{ 3.7 } + 2.51 \\cdot \\frac{ 6.9422 }{ 63940.2597 } \\right) \\\\&= 6.9720  \\\\[10pt]\n",
       "\\\\[10pt]\n",
       "f &= \\left( A - \\frac{ \\left( B - A \\right) ^{ 2 } }{ C - 2 \\cdot B + A } \\right) ^{ \\left( - 2 \\right) }  = \\left( 7.2333 - \\frac{ \\left( 6.9422 - 7.2333 \\right) ^{ 2 } }{ 6.9720 - 2 \\cdot 6.9422 + 7.2333 } \\right) ^{ \\left( - 2 \\right) } &= 0.0206  \n",
       "\\end{aligned}\n",
       "\\]"
      ],
      "text/plain": [
       "<IPython.core.display.Latex object>"
      ]
     },
     "metadata": {},
     "output_type": "display_data"
    }
   ],
   "source": [
    "f_serghide = serghide(NRe, PipeID, PP_xi)"
   ]
  },
  {
   "cell_type": "code",
   "execution_count": 17,
   "id": "c2121422",
   "metadata": {
    "scrolled": true
   },
   "outputs": [
    {
     "data": {
      "text/latex": [
       "\\[\n",
       "\\begin{aligned}\n",
       "\\Delta_{p} &= f \\cdot \\left( \\frac{ \\Sigma_{L} }{ D } \\right) \\cdot \\frac{ \\rho \\cdot \\left( \\mathrm{velocity} \\right) ^{ 2 } }{ 2 } \\\\&= 0.021 \\cdot \\left( \\frac{ 125.760\\ \\mathrm{m} }{ 50.000\\ \\mathrm{mm} } \\right) \\cdot \\frac{ 988.000\\ \\mathrm{kg} \\cdot \\mathrm{m^{-3}} \\cdot \\left( 707.355\\ \\mathrm{mm} \\cdot \\mathrm{s^{-1}} \\right) ^{ 2 } }{ 2 } \\\\&= 12.800\\ \\mathrm{kPa}  \\\\[10pt]\n",
       "\\end{aligned}\n",
       "\\]"
      ],
      "text/plain": [
       "<IPython.core.display.Latex object>"
      ]
     },
     "metadata": {},
     "output_type": "display_data"
    }
   ],
   "source": [
    "Delta_pSerghide = pressuredrop(f_serghide, Sigma_PipeL, PipeID, rho_H2O, velocity)"
   ]
  },
  {
   "cell_type": "markdown",
   "id": "dfa4cc63",
   "metadata": {},
   "source": [
    "## Method-4  Goudar- Sonnad "
   ]
  },
  {
   "cell_type": "code",
   "execution_count": 18,
   "id": "925d1ff9",
   "metadata": {},
   "outputs": [],
   "source": [
    "@handcalc(jupyter_display=True, precision=4)\n",
    "def gsonnad(NRe, D, xi):\n",
    "    a = 2/log(10)\n",
    "    b = (xi/D)/3.7\n",
    "    d = log(10)/5.02 *NRe\n",
    "    s = b*d + log(d)\n",
    "    q = s**( s/(s+1) )\n",
    "    g = b*d + log(d/q)\n",
    "    zeta = q/g\n",
    "    delta_LA = (g/(g+1))*zeta\n",
    "    delta_CFA = delta_LA * ( 1 + (zeta/2)/( (g+1)**2 + (zeta/3)*(2*g-1) ) )\n",
    "    f =  1/( a* ( log(d/q)+ delta_CFA ) )**2 \n",
    "    return f"
   ]
  },
  {
   "cell_type": "code",
   "execution_count": 19,
   "id": "714e4a15",
   "metadata": {
    "scrolled": true
   },
   "outputs": [
    {
     "data": {
      "text/latex": [
       "\\[\n",
       "\\begin{aligned}\n",
       "a &= \\frac{ 2 }{ \\ln \\left( 10 \\right) } &= 0.8686  \n",
       "\\\\[10pt]\n",
       "b &= \\frac{ \\frac{ \\xi }{ D } }{ 3.7 }  = \\frac{ \\frac{ 10.0000\\ \\mathrm{μm} }{ 50.0000\\ \\mathrm{mm} } }{ 3.7 } &= 0.0001  \n",
       "\\\\[10pt]\n",
       "d &= \\frac{ \\ln \\left( 10 \\right) }{ 5.02 } \\cdot \\mathrm{NRe}  = \\frac{ \\ln \\left( 10 \\right) }{ 5.02 } \\cdot 63940.2597 &= 29328.2647  \n",
       "\\\\[10pt]\n",
       "s &= b \\cdot d + \\ln \\left( d \\right)  = 0.0001 \\cdot 29328.2647 + \\ln \\left( 29328.2647 \\right) &= 11.8716  \n",
       "\\\\[10pt]\n",
       "q &= \\left( s \\right) ^{ \\left( \\frac{ s }{ s + 1 } \\right) }  = \\left( 11.8716 \\right) ^{ \\left( \\frac{ 11.8716 }{ 11.8716 + 1 } \\right) } &= 9.7956  \n",
       "\\\\[10pt]\n",
       "g &= b \\cdot d + \\ln \\left( \\frac{ d }{ q } \\right)  = 0.0001 \\cdot 29328.2647 + \\ln \\left( \\frac{ 29328.2647 }{ 9.7956 } \\right) &= 9.5897  \n",
       "\\\\[10pt]\n",
       "\\zeta &= \\frac{ q }{ g }  = \\frac{ 9.7956 }{ 9.5897 } &= 1.0215  \n",
       "\\\\[10pt]\n",
       "\\delta_{LA} &= \\left( \\frac{ g }{ g + 1 } \\right) \\cdot \\zeta  = \\left( \\frac{ 9.5897 }{ 9.5897 + 1 } \\right) \\cdot 1.0215 &= 0.9250  \n",
       "\\\\[10pt]\n",
       "\\delta_{CFA} &= \\delta_{LA} \\cdot \\left( 1 + \\frac{ \\frac{ \\zeta }{ 2 } }{ \\left( g + 1 \\right) ^{ 2 } + \\left( \\frac{ \\zeta }{ 3 } \\right) \\cdot \\left( 2 \\cdot g - 1 \\right) } \\right) \\\\&= 0.9250 \\cdot \\left( 1 + \\frac{ \\frac{ 1.0215 }{ 2 } }{ \\left( 9.5897 + 1 \\right) ^{ 2 } + \\left( \\frac{ 1.0215 }{ 3 } \\right) \\cdot \\left( 2 \\cdot 9.5897 - 1 \\right) } \\right) \\\\&= 0.9290  \\\\[10pt]\n",
       "\\\\[10pt]\n",
       "f &= \\frac{ 1 }{ \\left( a \\cdot \\left( \\ln \\left( \\frac{ d }{ q } \\right) + \\delta_{CFA} \\right) \\right) ^{ 2 } } \\\\&= \\frac{ 1 }{ \\left( 0.8686 \\cdot \\left( \\ln \\left( \\frac{ 29328.2647 }{ 9.7956 } \\right) + 0.9290 \\right) \\right) ^{ 2 } } \\\\&= 0.0166  \\\\[10pt]\n",
       "\\end{aligned}\n",
       "\\]"
      ],
      "text/plain": [
       "<IPython.core.display.Latex object>"
      ]
     },
     "metadata": {},
     "output_type": "display_data"
    }
   ],
   "source": [
    "f_gsonnad = gsonnad(NRe, PipeID, PP_xi)"
   ]
  },
  {
   "cell_type": "code",
   "execution_count": 20,
   "id": "08f3e85a",
   "metadata": {},
   "outputs": [
    {
     "data": {
      "text/latex": [
       "\\[\n",
       "\\begin{aligned}\n",
       "\\Delta_{p} &= f \\cdot \\left( \\frac{ \\Sigma_{L} }{ D } \\right) \\cdot \\frac{ \\rho \\cdot \\left( \\mathrm{velocity} \\right) ^{ 2 } }{ 2 } \\\\&= 0.017 \\cdot \\left( \\frac{ 125.760\\ \\mathrm{m} }{ 50.000\\ \\mathrm{mm} } \\right) \\cdot \\frac{ 988.000\\ \\mathrm{kg} \\cdot \\mathrm{m^{-3}} \\cdot \\left( 707.355\\ \\mathrm{mm} \\cdot \\mathrm{s^{-1}} \\right) ^{ 2 } }{ 2 } \\\\&= 10.326\\ \\mathrm{kPa}  \\\\[10pt]\n",
       "\\end{aligned}\n",
       "\\]"
      ],
      "text/plain": [
       "<IPython.core.display.Latex object>"
      ]
     },
     "metadata": {},
     "output_type": "display_data"
    }
   ],
   "source": [
    "Delta_pGsonnad = pressuredrop(f_gsonnad, Sigma_PipeL, PipeID, rho_H2O, velocity)"
   ]
  },
  {
   "cell_type": "markdown",
   "id": "eb2b4239",
   "metadata": {},
   "source": [
    "## Summary"
   ]
  },
  {
   "cell_type": "code",
   "execution_count": 21,
   "id": "d5978308",
   "metadata": {},
   "outputs": [
    {
     "data": {
      "text/html": [
       "<table><tr><td><h4>Emperical Relationship</h4></td><td><h4>Friction Factor</h4></td><td><h4>Pressure Drop</h4></td></tr><tr><td><h4>Churchill</h4></td><td><h4>0.0206</h4></td><td><h4>12.786 kPa</h4></td></tr><tr><td><h4>Serghide</h4></td><td><h4>0.0206</h4></td><td><h4>12.800 kPa</h4></td></tr><tr><td><h4>Goudar-Sonnad</h4></td><td><h4>0.0166</h4></td><td><h4>10.326 kPa</h4></td></tr></table>"
      ],
      "text/plain": [
       "<IPython.core.display.HTML object>"
      ]
     },
     "metadata": {},
     "output_type": "display_data"
    }
   ],
   "source": [
    "from IPython.display import HTML, display\n",
    "\n",
    "def display_table(data):\n",
    "    html = \"<table>\"\n",
    "    for row in data:\n",
    "        html += \"<tr>\"\n",
    "        for field in row:\n",
    "            html += \"<td><h4>%s</h4></td>\"%(field)\n",
    "        html += \"</tr>\"\n",
    "    html += \"</table>\"\n",
    "    display(HTML(html))\n",
    "\n",
    "data = [['Emperical Relationship','Friction Factor','Pressure Drop'],\n",
    "        ['Churchill', round(f_churchill,4), Delta_pChurchill],\n",
    "        ['Serghide', round(f_serghide,4), Delta_pSerghide],\n",
    "        ['Goudar-Sonnad', round(f_gsonnad,4), Delta_pGsonnad]]\n",
    "display_table(data)"
   ]
  },
  {
   "cell_type": "code",
   "execution_count": 22,
   "id": "45dfdad7",
   "metadata": {},
   "outputs": [
    {
     "data": {
      "application/json": {
       "Software versions": [
        {
         "module": "Python",
         "version": "3.9.18 64bit [Clang 14.0.7 (https://android.googlesource.com/toolchain/llvm-project 4c603efb]"
        },
        {
         "module": "IPython",
         "version": "7.34.0"
        },
        {
         "module": "OS",
         "version": "Linux 4.19.113 27114284 aarch64 with libc"
        },
        {
         "module": "handcalcs",
         "version": "1.6.5"
        },
        {
         "module": "forallpeople",
         "version": "2.6.7"
        }
       ]
      },
      "text/html": [
       "<table><tr><th>Software</th><th>Version</th></tr><tr><td>Python</td><td>3.9.18 64bit [Clang 14.0.7 (https://android.googlesource.com/toolchain/llvm-project 4c603efb]</td></tr><tr><td>IPython</td><td>7.34.0</td></tr><tr><td>OS</td><td>Linux 4.19.113 27114284 aarch64 with libc</td></tr><tr><td>handcalcs</td><td>1.6.5</td></tr><tr><td>forallpeople</td><td>2.6.7</td></tr><tr><td colspan='2'>Sat Jan 20 00:41:30 2024 +03</td></tr></table>"
      ],
      "text/latex": [
       "\\begin{tabular}{|l|l|}\\hline\n",
       "{\\bf Software} & {\\bf Version} \\\\ \\hline\\hline\n",
       "Python & 3.9.18 64bit [Clang 14.0.7 (https://android.googlesource.com/toolchain/llvm-project 4c603efb] \\\\ \\hline\n",
       "IPython & 7.34.0 \\\\ \\hline\n",
       "OS & Linux 4.19.113 27114284 aarch64 with libc \\\\ \\hline\n",
       "handcalcs & 1.6.5 \\\\ \\hline\n",
       "forallpeople & 2.6.7 \\\\ \\hline\n",
       "\\hline \\multicolumn{2}{|l|}{Sat Jan 20 00:41:30 2024 +03} \\\\ \\hline\n",
       "\\end{tabular}\n"
      ],
      "text/plain": [
       "Software versions\n",
       "Python 3.9.18 64bit [Clang 14.0.7 (https://android.googlesource.com/toolchain/llvm-project 4c603efb]\n",
       "IPython 7.34.0\n",
       "OS Linux 4.19.113 27114284 aarch64 with libc\n",
       "handcalcs 1.6.5\n",
       "forallpeople 2.6.7\n",
       "Sat Jan 20 00:41:30 2024 +03"
      ]
     },
     "execution_count": 22,
     "metadata": {},
     "output_type": "execute_result"
    }
   ],
   "source": [
    "%reload_ext version_information\n",
    "%version_information handcalcs, forallpeople"
   ]
  }
 ],
 "metadata": {
  "kernelspec": {
   "display_name": "Python 3 (ipykernel)",
   "language": "python",
   "name": "python3"
  },
  "language_info": {
   "codemirror_mode": {
    "name": "ipython",
    "version": 3
   },
   "file_extension": ".py",
   "mimetype": "text/x-python",
   "name": "python",
   "nbconvert_exporter": "python",
   "pygments_lexer": "ipython3",
   "version": "3.9.18"
  }
 },
 "nbformat": 4,
 "nbformat_minor": 5
}
